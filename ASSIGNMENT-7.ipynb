{
 "cells": [
  {
   "cell_type": "markdown",
   "id": "5e6b1459",
   "metadata": {},
   "source": [
    "## 1. What is the name of the feature responsible for generating Regex objects?"
   ]
  },
  {
   "cell_type": "markdown",
   "id": "2f5605a5",
   "metadata": {},
   "source": [
    "Regular Expression performs search operation,it uses in built function. re.compile() function is responsible for generating Regex objects."
   ]
  },
  {
   "cell_type": "code",
   "execution_count": 10,
   "id": "9e8b77cf",
   "metadata": {},
   "outputs": [
    {
     "name": "stdout",
     "output_type": "stream",
     "text": [
      "['ha', 'ha', 'ha']\n",
      "['ha', 'ha']\n"
     ]
    }
   ],
   "source": [
    "import re\n",
    "pattern=re.compile('ha')\n",
    "p=pattern.findall('happy hai hallow')\n",
    "print(p)\n",
    "p1=pattern.findall('happy world having good omen')\n",
    "print(p1)"
   ]
  },
  {
   "cell_type": "markdown",
   "id": "9aa993c7",
   "metadata": {},
   "source": [
    "## 2. Why do raw strings often appear in Regex objects?"
   ]
  },
  {
   "cell_type": "markdown",
   "id": "2a865e80",
   "metadata": {},
   "source": [
    "Raw strings are used to consider escape characters as srting literals. Regular Expressions usually contain a lot of backslashes(\\). When using Python’s “re” module , regular expressions are represented as strings. So, like all strings with a lot of backslashes, they are more readable when written in raw literal form."
   ]
  },
  {
   "cell_type": "markdown",
   "id": "048f8220",
   "metadata": {},
   "source": [
    "## 3. What is the return value of the search() method?"
   ]
  },
  {
   "cell_type": "markdown",
   "id": "fbfcb9e9",
   "metadata": {},
   "source": [
    "re.search() checks for a match anywhere in the string and it returns that value."
   ]
  },
  {
   "cell_type": "markdown",
   "id": "74116367",
   "metadata": {},
   "source": [
    "## 4. From a Match item, how do you get the actual strings that match the pattern?"
   ]
  },
  {
   "cell_type": "code",
   "execution_count": 4,
   "id": "a49d8761",
   "metadata": {},
   "outputs": [
    {
     "data": {
      "text/plain": [
       "'27.1835'"
      ]
     },
     "execution_count": 4,
     "metadata": {},
     "output_type": "execute_result"
    }
   ],
   "source": [
    "import re\n",
    "m = re.match(r\"(\\d+)\\.(\\d+)\", \"27.1835\")\n",
    "m.group()"
   ]
  },
  {
   "cell_type": "code",
   "execution_count": 17,
   "id": "c0ae654c",
   "metadata": {},
   "outputs": [
    {
     "name": "stdout",
     "output_type": "stream",
     "text": [
      "b@google\n"
     ]
    }
   ],
   "source": [
    "str = 'purple alice-b@google.com monkey dishwasher'\n",
    "match = re.search(r'\\w+@\\w+', str)\n",
    "if match:\n",
    "    print(match.group())\n",
    "else:\n",
    "    print(\"no match\")"
   ]
  },
  {
   "cell_type": "markdown",
   "id": "331c44d2",
   "metadata": {},
   "source": [
    "## 5. In the regex which created from the r'(\\d\\d\\d)-(\\d\\d\\d-\\d\\d\\d\\d)', what does group zero cover? Group 2? Group 1?\n"
   ]
  },
  {
   "cell_type": "code",
   "execution_count": 10,
   "id": "1631fff5",
   "metadata": {},
   "outputs": [
    {
     "name": "stdout",
     "output_type": "stream",
     "text": [
      "846-584-9568\n",
      "846-584-9568\n",
      "846\n",
      "584-9568\n"
     ]
    }
   ],
   "source": [
    "import re\n",
    "m='846-584-9568'\n",
    "match = re.search(r'(\\d\\d\\d)-(\\d\\d\\d-\\d\\d\\d\\d)', m)\n",
    "if match:\n",
    "    print(match.group())\n",
    "else:\n",
    "    print(\"no match\")\n",
    "print(match.group(0))\n",
    "print(match.group(1))\n",
    "print(match.group(2))"
   ]
  },
  {
   "cell_type": "markdown",
   "id": "f2de385b",
   "metadata": {},
   "source": [
    "By this we understood that group(),group(0) gives whole string,where group(1) and group(2) gives first half and second half respectively."
   ]
  },
  {
   "cell_type": "markdown",
   "id": "e49e7067",
   "metadata": {},
   "source": [
    "## 6. In standard expression syntax, parentheses and intervals have distinct meanings. How can you tell a regex that you want it to fit real parentheses and periods?"
   ]
  },
  {
   "cell_type": "markdown",
   "id": "6989dd3c",
   "metadata": {},
   "source": [
    "Period and parentheses can be escaped with a backslash: \\., \\( and \\)."
   ]
  },
  {
   "cell_type": "code",
   "execution_count": 6,
   "id": "d09e2ef8",
   "metadata": {},
   "outputs": [
    {
     "name": "stdout",
     "output_type": "stream",
     "text": [
      "happy.world (iam)\n"
     ]
    }
   ],
   "source": [
    "import re\n",
    "y='happy.world (iam)'\n",
    "x=re.match(r'\\w{5}\\.\\w+\\s\\(\\w\\w\\w\\)',y)\n",
    "print(x.group(0))"
   ]
  },
  {
   "cell_type": "markdown",
   "id": "4ee6e2ac",
   "metadata": {},
   "source": [
    "## 7. The findall() method returns a string list or a list of string tuples. What causes it to return one of the two options?"
   ]
  },
  {
   "cell_type": "code",
   "execution_count": 3,
   "id": "36403f5c",
   "metadata": {},
   "outputs": [
    {
     "data": {
      "text/plain": [
       "['a', 'a']"
      ]
     },
     "execution_count": 3,
     "metadata": {},
     "output_type": "execute_result"
    }
   ],
   "source": [
    "y='happy world (iam)'\n",
    "re.findall(\"a\",y)\n"
   ]
  },
  {
   "cell_type": "code",
   "execution_count": 21,
   "id": "e527807b",
   "metadata": {},
   "outputs": [
    {
     "name": "stdout",
     "output_type": "stream",
     "text": [
      "[('happy', ' world ', '(iam)')]\n"
     ]
    }
   ],
   "source": [
    "import re\n",
    "y='happy world (iam)'\n",
    "x=re.findall(r'(\\w\\w\\w\\w\\w)(.\\w+\\s)(\\(\\w\\w\\w\\))',y)\n",
    "print(x)"
   ]
  },
  {
   "cell_type": "markdown",
   "id": "5f94b394",
   "metadata": {},
   "source": [
    "if regex has no groups it gives list of strings and it has group of regex iterals it gives list of tuples"
   ]
  },
  {
   "cell_type": "markdown",
   "id": "7c66cf91",
   "metadata": {},
   "source": [
    "## 8. In standard expressions, what does the | character mean?"
   ]
  },
  {
   "cell_type": "markdown",
   "id": "390b04f5",
   "metadata": {},
   "source": [
    "The '|' character mean either or"
   ]
  },
  {
   "cell_type": "code",
   "execution_count": 11,
   "id": "48986390",
   "metadata": {},
   "outputs": [
    {
     "name": "stdout",
     "output_type": "stream",
     "text": [
      "['love ', ' country']\n",
      "both are found\n"
     ]
    }
   ],
   "source": [
    "import re\n",
    "l='I love my country'\n",
    "f=re.findall(\"love | country\",l)\n",
    "print(f)\n",
    "if len(f)==2:\n",
    "    print('both are found')\n",
    "elif len(f)==1:\n",
    "    print('only one is found')\n",
    "else:\n",
    "    print('none is found')"
   ]
  },
  {
   "cell_type": "code",
   "execution_count": 13,
   "id": "180027de",
   "metadata": {},
   "outputs": [
    {
     "name": "stdout",
     "output_type": "stream",
     "text": [
      "[' country']\n",
      "only one is found\n"
     ]
    }
   ],
   "source": [
    "import re\n",
    "l='I love my country'\n",
    "f=re.findall(\"happy | country\",l)\n",
    "print(f)\n",
    "if len(f)==2:\n",
    "    print('both are found')\n",
    "elif len(f)==1:\n",
    "    print('only one is found')\n",
    "else:\n",
    "    print('none is found')"
   ]
  },
  {
   "cell_type": "markdown",
   "id": "a69b179a",
   "metadata": {},
   "source": [
    "## 9. In regular expressions, what does the character stand for?"
   ]
  },
  {
   "cell_type": "markdown",
   "id": "332cbe64",
   "metadata": {},
   "source": [
    "All characters mean same meaning except some special character, a character can be any value filled in one space."
   ]
  },
  {
   "cell_type": "markdown",
   "id": "4d825605",
   "metadata": {},
   "source": [
    "##  10.In regular expressions, what is the difference between the + and * characters?"
   ]
  },
  {
   "cell_type": "markdown",
   "id": "bd465b1a",
   "metadata": {},
   "source": [
    " '+' takes value one or more times of prevoius element where as '*' takes value zero or more times of previous element."
   ]
  },
  {
   "cell_type": "code",
   "execution_count": 41,
   "id": "47aa1a77",
   "metadata": {},
   "outputs": [
    {
     "data": {
      "text/plain": [
       "['happy']"
      ]
     },
     "execution_count": 41,
     "metadata": {},
     "output_type": "execute_result"
    }
   ],
   "source": [
    "import re\n",
    "y='happy'\n",
    "re.findall('ha.+y',y)"
   ]
  },
  {
   "cell_type": "code",
   "execution_count": 32,
   "id": "7bf2e196",
   "metadata": {},
   "outputs": [
    {
     "name": "stdout",
     "output_type": "stream",
     "text": [
      "['happy']\n"
     ]
    }
   ],
   "source": [
    "import re\n",
    "y='happy'\n",
    "x=re.findall('ha.*y',y)\n",
    "print(x)"
   ]
  },
  {
   "cell_type": "markdown",
   "id": "ed5ca84e",
   "metadata": {},
   "source": [
    "## 11. What is the difference between {4} and {4,5} in regular expression?"
   ]
  },
  {
   "cell_type": "code",
   "execution_count": 29,
   "id": "f87dcca4",
   "metadata": {},
   "outputs": [
    {
     "name": "stdout",
     "output_type": "stream",
     "text": [
      "HAPP\n"
     ]
    }
   ],
   "source": [
    "import re\n",
    "y='HAPPY'\n",
    "x=re.match('\\w{4}',y)\n",
    "print(x.group())\n",
    "# it takes four values of the preceding value"
   ]
  },
  {
   "cell_type": "code",
   "execution_count": 27,
   "id": "4604d303",
   "metadata": {},
   "outputs": [
    {
     "data": {
      "text/plain": [
       "['1234', '56789', '01234']"
      ]
     },
     "execution_count": 27,
     "metadata": {},
     "output_type": "execute_result"
    }
   ],
   "source": [
    "import re\n",
    "s=\"four digits 1234 five digits 56789 six digits 012345\"\n",
    "re.findall(r\"\\D(\\d{4,5})\", s)"
   ]
  },
  {
   "cell_type": "code",
   "execution_count": 34,
   "id": "f127c6ed",
   "metadata": {},
   "outputs": [
    {
     "data": {
      "text/plain": [
       "['56789', '01234', '56789', '01234']"
      ]
     },
     "execution_count": 34,
     "metadata": {},
     "output_type": "execute_result"
    }
   ],
   "source": [
    "input = \"four digits 1234 five digits 56789 six digits 01234,56789,01234\"\n",
    "re.findall(r\"\\b\\d{5}\\b\", input) "
   ]
  },
  {
   "cell_type": "markdown",
   "id": "724350f4",
   "metadata": {},
   "source": [
    "## 12. What do you mean by the \\d, \\w, and \\s shorthand character classes signify in regular expressions?"
   ]
  },
  {
   "cell_type": "markdown",
   "id": "87118084",
   "metadata": {},
   "source": [
    "\\d classifies digits(0-9)\n",
    "\\w returns from case sensitive alphabet,0-9\n",
    "\\s returns space gap\n",
    "and _(underscore)"
   ]
  },
  {
   "cell_type": "markdown",
   "id": "8c56510b",
   "metadata": {},
   "source": [
    "## 13. What do means by \\D, \\W, and \\S shorthand character classes signify in regular expressions?"
   ]
  },
  {
   "cell_type": "markdown",
   "id": "55252e71",
   "metadata": {},
   "source": [
    "\\D returns no digit charecter.\n",
    "\\W returns no case sensitive alphabet digit and _ remaining all are returned\n",
    "\\Sreturns character where no white space is present"
   ]
  },
  {
   "cell_type": "code",
   "execution_count": 91,
   "id": "aa52c4a7",
   "metadata": {},
   "outputs": [
    {
     "data": {
      "text/plain": [
       "[' ', ' ', ' ', '#', '$', ' ', '(', ')']"
      ]
     },
     "execution_count": 91,
     "metadata": {},
     "output_type": "execute_result"
    }
   ],
   "source": [
    "y='happy world 155 #$ (iam)'\n",
    "re.findall(\"\\W\",y) #\\D,\\S\n"
   ]
  },
  {
   "cell_type": "markdown",
   "id": "1457218e",
   "metadata": {},
   "source": [
    "## 14. What is the difference between .*? and (.*)?"
   ]
  },
  {
   "cell_type": "markdown",
   "id": "d1ce4c83",
   "metadata": {},
   "source": [
    "(.*?) matches any character (.) any number of times (*), as few times as possible to make the regex match (?). \n",
    "(.*)? captures a group zero or one times (?). That group consists of a run of any length (*) of any character (.). This also will match anything, but it will capture the first line, since the dot matches anything except a newline. the first one is non greedy and the second one is greedy."
   ]
  },
  {
   "cell_type": "markdown",
   "id": "4ce4625e",
   "metadata": {},
   "source": [
    "## 15. What is the syntax for matching both numbers and lowercase letters with a character class?"
   ]
  },
  {
   "cell_type": "markdown",
   "id": "fbd84898",
   "metadata": {},
   "source": [
    "[0-9a-z] or [a-z0-9]"
   ]
  },
  {
   "cell_type": "code",
   "execution_count": 45,
   "id": "496ac01d",
   "metadata": {},
   "outputs": [
    {
     "name": "stdout",
     "output_type": "stream",
     "text": [
      "['8', 'i', 'm', 'e', 's', 'e', 'f', 'o', 'r', 'e', '1', '1', '4', '5']\n"
     ]
    }
   ],
   "source": [
    "t = \"8 Times Before 11:45 AM\"\n",
    "x = re.findall(\"[a-z0-9]\", t)\n",
    "print(x)"
   ]
  },
  {
   "cell_type": "markdown",
   "id": "24ad6d32",
   "metadata": {},
   "source": [
    "## 16. What is the procedure for making a normal expression in regax case insensitive?"
   ]
  },
  {
   "cell_type": "markdown",
   "id": "c9e6ccdd",
   "metadata": {},
   "source": [
    "Passing re.I or re.IGNORECASE as the second argument to re.compile() will make the matching case insensitive."
   ]
  },
  {
   "cell_type": "code",
   "execution_count": 18,
   "id": "d07e1531",
   "metadata": {},
   "outputs": [
    {
     "name": "stdout",
     "output_type": "stream",
     "text": [
      "8 Times Before 11:45 AM\n"
     ]
    }
   ],
   "source": [
    "t = \"8 Times Before 11:45 AM\"\n",
    "x = re.compile(t,re.I)\n",
    "print(t)\n"
   ]
  },
  {
   "cell_type": "markdown",
   "id": "fc11ea1e",
   "metadata": {},
   "source": [
    "## 17. What does the . character normally match? What does it match if re.DOTALL is passed as 2nd argument in re.compile()?"
   ]
  },
  {
   "cell_type": "markdown",
   "id": "b41a762a",
   "metadata": {},
   "source": [
    ".  character indicate any  character value. If re.DOTALL is passed as the second argument to re.compile(), then the dot will also match newline characters."
   ]
  },
  {
   "cell_type": "code",
   "execution_count": 89,
   "id": "24922e0a",
   "metadata": {},
   "outputs": [
    {
     "name": "stdout",
     "output_type": "stream",
     "text": [
      "i go to school regulary\n",
      "i eat daily\n"
     ]
    }
   ],
   "source": [
    "r=\"i go to school regulary\\ni eat daily\"\n",
    "w=re.compile(r,re.DOTALL)\n",
    "print(r)"
   ]
  },
  {
   "cell_type": "code",
   "execution_count": 88,
   "id": "182a8495",
   "metadata": {},
   "outputs": [
    {
     "name": "stdout",
     "output_type": "stream",
     "text": [
      "i go to school regulary\n",
      "i eat daily\n"
     ]
    }
   ],
   "source": [
    "r=\"i go to school regulary\\ni eat daily\"\n",
    "w=r\".i\"\n",
    "print(r)"
   ]
  },
  {
   "cell_type": "markdown",
   "id": "a24ce4a0",
   "metadata": {},
   "source": [
    "## 18. If numReg = re.compile(r'\\d+'), what will numRegex.sub('X', '11 drummers, 10 pipers, five rings, 4 hen') return?"
   ]
  },
  {
   "cell_type": "code",
   "execution_count": 20,
   "id": "5ab2a4bd",
   "metadata": {},
   "outputs": [
    {
     "data": {
      "text/plain": [
       "'X drummers, X pipers, five rings, X hen'"
      ]
     },
     "execution_count": 20,
     "metadata": {},
     "output_type": "execute_result"
    }
   ],
   "source": [
    "numRegex = re.compile(r'\\d+')\n",
    "numRegex.sub('X', '11 drummers, 10 pipers, five rings, 4 hen')"
   ]
  },
  {
   "cell_type": "markdown",
   "id": "f336980e",
   "metadata": {},
   "source": [
    "## 19. What does passing re.VERBOSE as the 2nd argument to re.compile() allow to do?\n"
   ]
  },
  {
   "cell_type": "code",
   "execution_count": 3,
   "id": "0ba12095",
   "metadata": {},
   "outputs": [
    {
     "data": {
      "text/plain": [
       "['i am eating 4 eggs']"
      ]
     },
     "execution_count": 3,
     "metadata": {},
     "output_type": "execute_result"
    }
   ],
   "source": [
    "import re\n",
    "r=re.compile(r'\\w\\s\\w+.\\w+\\s\\d.\\w+',re.VERBOSE)\n",
    "r.findall(\"i am eating 4 eggs\")"
   ]
  },
  {
   "cell_type": "markdown",
   "id": "54cc05cf",
   "metadata": {},
   "source": [
    "re.verbose allows us to write regular expressions that look nicer and are more readable by allowing you to visually separate logical sections of the pattern and add comments."
   ]
  },
  {
   "cell_type": "markdown",
   "id": "c8262fce",
   "metadata": {},
   "source": [
    "## 20. How would you write a regex that match a number with comma for every three digits? It must match the given following:\n",
    "'42'\n",
    "'1,234'\n",
    "'6,368,745'\n",
    "but not the following:\n",
    "'12,34,567' (which has only two digits between the commas)\n",
    "'1234' (which lacks commas)\n"
   ]
  },
  {
   "cell_type": "markdown",
   "id": "e4d3a033",
   "metadata": {},
   "source": [
    "re.compile(r'^\\d{1,3}(,\\d{3})*$') will create this regex, but other regex strings can produce a similar regular expression."
   ]
  },
  {
   "cell_type": "code",
   "execution_count": 2,
   "id": "331d903a",
   "metadata": {},
   "outputs": [
    {
     "data": {
      "text/plain": [
       "'426,368,745'"
      ]
     },
     "execution_count": 2,
     "metadata": {},
     "output_type": "execute_result"
    }
   ],
   "source": [
    "import re\n",
    "reg1 = re.compile(r'^\\d{1,3}(,\\d{3})*$')\n",
    "mo1 = reg1.search(\"42\" '6,368,745')\n",
    "mo1.group()"
   ]
  },
  {
   "cell_type": "code",
   "execution_count": 3,
   "id": "c2b0f040",
   "metadata": {},
   "outputs": [
    {
     "data": {
      "text/plain": [
       "'6,368,745'"
      ]
     },
     "execution_count": 3,
     "metadata": {},
     "output_type": "execute_result"
    }
   ],
   "source": [
    "reg1 = re.compile(r'^\\d{1,3}(,\\d{3})*$')\n",
    "mo1 = reg1.search('6,368,745')\n",
    "mo1.group()"
   ]
  },
  {
   "cell_type": "code",
   "execution_count": 4,
   "id": "35a2e94e",
   "metadata": {},
   "outputs": [
    {
     "ename": "AttributeError",
     "evalue": "'NoneType' object has no attribute 'group'",
     "output_type": "error",
     "traceback": [
      "\u001b[1;31m---------------------------------------------------------------------------\u001b[0m",
      "\u001b[1;31mAttributeError\u001b[0m                            Traceback (most recent call last)",
      "\u001b[1;32m<ipython-input-4-3a9ec6124c72>\u001b[0m in \u001b[0;36m<module>\u001b[1;34m\u001b[0m\n\u001b[0;32m      1\u001b[0m \u001b[0mreg1\u001b[0m \u001b[1;33m=\u001b[0m \u001b[0mre\u001b[0m\u001b[1;33m.\u001b[0m\u001b[0mcompile\u001b[0m\u001b[1;33m(\u001b[0m\u001b[1;34mr'^\\d{1,3}(,\\d{3})*$'\u001b[0m\u001b[1;33m)\u001b[0m\u001b[1;33m\u001b[0m\u001b[1;33m\u001b[0m\u001b[0m\n\u001b[0;32m      2\u001b[0m \u001b[0mmo1\u001b[0m \u001b[1;33m=\u001b[0m \u001b[0mreg1\u001b[0m\u001b[1;33m.\u001b[0m\u001b[0msearch\u001b[0m\u001b[1;33m(\u001b[0m\u001b[1;34m'1234'\u001b[0m\u001b[1;33m)\u001b[0m\u001b[1;33m\u001b[0m\u001b[1;33m\u001b[0m\u001b[0m\n\u001b[1;32m----> 3\u001b[1;33m \u001b[0mmo1\u001b[0m\u001b[1;33m.\u001b[0m\u001b[0mgroup\u001b[0m\u001b[1;33m(\u001b[0m\u001b[1;33m)\u001b[0m\u001b[1;33m\u001b[0m\u001b[1;33m\u001b[0m\u001b[0m\n\u001b[0m",
      "\u001b[1;31mAttributeError\u001b[0m: 'NoneType' object has no attribute 'group'"
     ]
    }
   ],
   "source": [
    "reg1 = re.compile(r'^\\d{1,3}(,\\d{3})*$')\n",
    "mo1 = reg1.search('1234')\n",
    "mo1.group()"
   ]
  },
  {
   "cell_type": "markdown",
   "id": "27809232",
   "metadata": {},
   "source": [
    "## 21. How would you write a regex that matches the full name of someone whose last name is Watanabe? You can assume that the first name that comes before it will always be one word that begins with a capital letter. The regex must match the following:\n",
    "'Haruto Watanabe'\n",
    "'Alice Watanabe'\n",
    "'RoboCop Watanabe'\n",
    "but not the following:\n",
    "'haruto Watanabe' (where the first name is not capitalized)\n",
    "'Mr. Watanabe' (where the preceding word has a nonletter character)\n",
    "'Watanabe' (which has no first name)\n",
    "'Haruto watanabe' (where Watanabe is not capitalized)\n"
   ]
  },
  {
   "cell_type": "code",
   "execution_count": 80,
   "id": "829466c2",
   "metadata": {},
   "outputs": [
    {
     "data": {
      "text/plain": [
       "['Haruto Watanabe', 'Alice Watanabe', 'Cop Watanabe']"
      ]
     },
     "execution_count": 80,
     "metadata": {},
     "output_type": "execute_result"
    }
   ],
   "source": [
    "q=re.compile(r'[A-Z][a-z]*\\sWatanabe')\n",
    "q.findall('Haruto Watanabe' 'Alice Watanabe' 'RoboCop Watanabe'  'haruto Watanabe' 'Haruto watanabe' 'Watanabe' )"
   ]
  },
  {
   "cell_type": "markdown",
   "id": "c22230f2",
   "metadata": {},
   "source": [
    "## 22. How would you write a regex that matches a sentence where the first word is either Alice, Bob, or Carol; the second word is either eats, pets, or throws; the third word is apples, cats, or baseballs; and the sentence ends with a period? This regex should be case-insensitive. It must match the following:\n",
    "'Alice eats apples.'\n",
    "'Bob pets cats.'\n",
    "'Carol throws baseballs.'\n",
    "'Alice throws Apples.'\n",
    "'BOB EATS CATS.'\n",
    "but not the following:\n",
    "'RoboCop eats apples.'\n",
    "'ALICE THROWS FOOTBALLS.'\n",
    "'Carol eats 7 cats.'\n"
   ]
  },
  {
   "cell_type": "code",
   "execution_count": 5,
   "id": "26ad3641",
   "metadata": {},
   "outputs": [
    {
     "data": {
      "text/plain": [
       "[('Alice', 'eats', 'apples.'),\n",
       " ('Bob', 'pets', 'cats.'),\n",
       " ('Carol', 'throws', 'baseballs.'),\n",
       " ('Alice', 'throws', 'Apples.'),\n",
       " ('BOB', 'EATS', 'CATS.')]"
      ]
     },
     "execution_count": 5,
     "metadata": {},
     "output_type": "execute_result"
    }
   ],
   "source": [
    "import re\n",
    "s=re.compile(r'(Alice|Bob|Carol)\\s(eats|pets|throws)\\s(apples\\.|cats\\.|baseballs\\.)',re.IGNORECASE)\n",
    "s.findall('Alice eats apples.' 'Bob pets cats.' 'Carol throws baseballs.' 'Alice throws Apples.' 'BOB EATS CATS.''RoboCop eats apples.' 'ALICE THROWS FOOTBALLS.' 'Carol eats 7 cats.')"
   ]
  },
  {
   "cell_type": "code",
   "execution_count": null,
   "id": "9167beb7",
   "metadata": {},
   "outputs": [],
   "source": []
  }
 ],
 "metadata": {
  "kernelspec": {
   "display_name": "Python 3",
   "language": "python",
   "name": "python3"
  },
  "language_info": {
   "codemirror_mode": {
    "name": "ipython",
    "version": 3
   },
   "file_extension": ".py",
   "mimetype": "text/x-python",
   "name": "python",
   "nbconvert_exporter": "python",
   "pygments_lexer": "ipython3",
   "version": "3.8.8"
  }
 },
 "nbformat": 4,
 "nbformat_minor": 5
}
